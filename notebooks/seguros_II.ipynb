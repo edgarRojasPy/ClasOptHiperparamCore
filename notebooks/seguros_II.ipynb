{
 "cells": [
  {
   "cell_type": "markdown",
   "metadata": {},
   "source": [
    "1. Preprocesamiento de Datos\n",
    "Incluye imputación de valores faltantes, codificación de variables categóricas y escalamiento de datos numéricos."
   ]
  },
  {
   "cell_type": "code",
   "execution_count": 1,
   "metadata": {},
   "outputs": [],
   "source": [
    "import pandas as pd\n",
    "import numpy as np\n",
    "from sklearn.impute import SimpleImputer\n",
    "from sklearn.preprocessing import OneHotEncoder, StandardScaler\n",
    "from sklearn.compose import ColumnTransformer\n",
    "from sklearn.model_selection import train_test_split, cross_val_score\n",
    "\n",
    "# Cargar datos\n",
    "df = pd.read_csv('../data/dataset1.csv')  # Reemplaza con tu archivo\n"
   ]
  },
  {
   "cell_type": "code",
   "execution_count": 2,
   "metadata": {},
   "outputs": [
    {
     "name": "stdout",
     "output_type": "stream",
     "text": [
      "<class 'pandas.core.frame.DataFrame'>\n",
      "RangeIndex: 1338 entries, 0 to 1337\n",
      "Data columns (total 7 columns):\n",
      " #   Column    Non-Null Count  Dtype  \n",
      "---  ------    --------------  -----  \n",
      " 0   age       1338 non-null   int64  \n",
      " 1   sex       1338 non-null   object \n",
      " 2   bmi       1338 non-null   float64\n",
      " 3   children  1338 non-null   int64  \n",
      " 4   smoker    1338 non-null   object \n",
      " 5   region    1338 non-null   object \n",
      " 6   charges   1338 non-null   float64\n",
      "dtypes: float64(2), int64(2), object(3)\n",
      "memory usage: 73.3+ KB\n"
     ]
    }
   ],
   "source": [
    "df.info()"
   ]
  },
  {
   "cell_type": "code",
   "execution_count": 3,
   "metadata": {},
   "outputs": [
    {
     "data": {
      "text/plain": [
       "Index(['age', 'bmi', 'children', 'charges'], dtype='object')"
      ]
     },
     "execution_count": 3,
     "metadata": {},
     "output_type": "execute_result"
    }
   ],
   "source": [
    "df.select_dtypes(include=['float64', 'int64']).columns"
   ]
  },
  {
   "cell_type": "code",
   "execution_count": 4,
   "metadata": {},
   "outputs": [],
   "source": [
    "\n",
    "# Identificar las columnas categóricas y numéricas\n",
    "cat_columns = df.select_dtypes(include=['category']).columns\n",
    "num_columns = ['age', 'bmi', 'children']\n",
    "\n",
    "# Imputar valores faltantes\n",
    "cat_imputer = SimpleImputer(strategy='most_frequent')\n",
    "num_imputer = SimpleImputer(strategy='mean')\n",
    "\n",
    "# Codificación One-Hot para categóricas y escalamiento para numéricas\n",
    "preprocessor = ColumnTransformer(\n",
    "    transformers=[\n",
    "        ('num', StandardScaler(), num_columns),\n",
    "        ('cat', OneHotEncoder(handle_unknown='ignore'), cat_columns)\n",
    "    ]\n",
    ")\n",
    "\n",
    "# Separar características y objetivo\n",
    "X = df.drop(columns=['charges'])  # Reemplaza 'charges' si no es el objetivo\n",
    "y = (df['charges'] > df['charges'].median()).astype(int)  # Ejemplo: clasificar como alto/bajo\n",
    "\n",
    "\n"
   ]
  },
  {
   "cell_type": "code",
   "execution_count": 5,
   "metadata": {},
   "outputs": [],
   "source": [
    "# Dividir en conjuntos de entrenamiento y prueba\n",
    "X_train, X_test, y_train, y_test = train_test_split(X, y, test_size=0.2, random_state=42)\n",
    "X_train = preprocessor.fit_transform(X_train)\n",
    "X_test = preprocessor.transform(X_test)"
   ]
  },
  {
   "cell_type": "code",
   "execution_count": 6,
   "metadata": {},
   "outputs": [],
   "source": [
    "\n",
    "# Imputar valores faltantes\n",
    "cat_imputer = SimpleImputer(strategy='most_frequent')\n",
    "num_imputer = SimpleImputer(strategy='mean')\n",
    "\n",
    "# Codificación One-Hot para categóricas y escalamiento para numéricas\n",
    "preprocessor = ColumnTransformer(\n",
    "    transformers=[\n",
    "        ('num', StandardScaler(), num_columns),\n",
    "        ('cat', OneHotEncoder(handle_unknown='ignore'), cat_columns)\n",
    "    ]\n",
    ")\n",
    "\n",
    "# Separar características y objetivo\n",
    "X = df.drop(columns=['charges'])  # Reemplaza 'charges' si no es el objetivo\n",
    "y = (df['charges'] > df['charges'].median()).astype(int)  # Ejemplo: clasificar como alto/bajo\n",
    "\n",
    "# Dividir en conjuntos de entrenamiento y prueba\n",
    "X_train, X_test, y_train, y_test = train_test_split(X, y, test_size=0.2, random_state=42)\n",
    "X_train = preprocessor.fit_transform(X_train)\n",
    "X_test = preprocessor.transform(X_test)\n"
   ]
  },
  {
   "cell_type": "markdown",
   "metadata": {},
   "source": [
    "2. Implementación de Modelos de Clasificación\n",
    "Se usarán Regresión Logística, KNN, y Árbol de Decisión. Cada uno se evalúa inicialmente con validación cruzada."
   ]
  },
  {
   "cell_type": "code",
   "execution_count": 7,
   "metadata": {},
   "outputs": [
    {
     "name": "stdout",
     "output_type": "stream",
     "text": [
      "Logistic Regression - Mean Accuracy: 0.7131\n",
      "K-Nearest Neighbors - Mean Accuracy: 0.7159\n",
      "Decision Tree - Mean Accuracy: 0.6813\n"
     ]
    }
   ],
   "source": [
    "from sklearn.linear_model import LogisticRegression\n",
    "from sklearn.neighbors import KNeighborsClassifier\n",
    "from sklearn.tree import DecisionTreeClassifier\n",
    "\n",
    "# Modelos a evaluar\n",
    "models = {\n",
    "    'Logistic Regression': LogisticRegression(random_state=42),\n",
    "    'K-Nearest Neighbors': KNeighborsClassifier(),\n",
    "    'Decision Tree': DecisionTreeClassifier(random_state=42)\n",
    "}\n",
    "\n",
    "# Evaluación inicial con validación cruzada\n",
    "for name, model in models.items():\n",
    "    scores = cross_val_score(model, X_train, y_train, cv=5, scoring='accuracy')\n",
    "    print(f\"{name} - Mean Accuracy: {scores.mean():.4f}\")\n"
   ]
  },
  {
   "cell_type": "markdown",
   "metadata": {},
   "source": [
    "3. Optimización de Hiperparámetros\n",
    "Se utilizarán GridSearchCV y RandomizedSearchCV."
   ]
  },
  {
   "cell_type": "code",
   "execution_count": 8,
   "metadata": {},
   "outputs": [
    {
     "name": "stdout",
     "output_type": "stream",
     "text": [
      "Logistic Regression - Best Params: {'C': 1} - Best Score: 0.7131\n",
      "K-Nearest Neighbors - Best Params: {'n_neighbors': 7} - Best Score: 0.7346\n",
      "Decision Tree - Best Params: {'max_depth': 3, 'min_samples_split': 2} - Best Score: 0.7701\n"
     ]
    }
   ],
   "source": [
    "from sklearn.model_selection import GridSearchCV, RandomizedSearchCV\n",
    "\n",
    "# Parámetros para optimización\n",
    "param_grid_lr = {'C': [0.01, 0.1, 1, 10]}\n",
    "param_grid_knn = {'n_neighbors': [3, 5, 7, 9]}\n",
    "param_grid_dt = {'max_depth': [3, 5, 10, None], 'min_samples_split': [2, 5, 10]}\n",
    "\n",
    "grid_searches = {\n",
    "    'Logistic Regression': GridSearchCV(LogisticRegression(random_state=42), param_grid_lr, cv=5, scoring='accuracy'),\n",
    "    'K-Nearest Neighbors': GridSearchCV(KNeighborsClassifier(), param_grid_knn, cv=5, scoring='accuracy'),\n",
    "    'Decision Tree': GridSearchCV(DecisionTreeClassifier(random_state=42), param_grid_dt, cv=5, scoring='accuracy')\n",
    "}\n",
    "\n",
    "# Optimización con GridSearchCV\n",
    "for name, search in grid_searches.items():\n",
    "    search.fit(X_train, y_train)\n",
    "    print(f\"{name} - Best Params: {search.best_params_} - Best Score: {search.best_score_:.4f}\")\n"
   ]
  },
  {
   "cell_type": "markdown",
   "metadata": {},
   "source": [
    "4. Evaluación de Modelos\n",
    "Se utilizan métricas como exactitud, precisión, recall, F1-score, ROC-AUC, y matriz de confusión."
   ]
  },
  {
   "cell_type": "code",
   "execution_count": 9,
   "metadata": {},
   "outputs": [
    {
     "name": "stdout",
     "output_type": "stream",
     "text": [
      "              precision    recall  f1-score   support\n",
      "\n",
      "           0       0.77      0.71      0.74       146\n",
      "           1       0.68      0.75      0.72       122\n",
      "\n",
      "    accuracy                           0.73       268\n",
      "   macro avg       0.73      0.73      0.73       268\n",
      "weighted avg       0.73      0.73      0.73       268\n",
      "\n",
      "ROC-AUC: 0.8267\n"
     ]
    },
    {
     "data": {
      "image/png": "[encoded data removed]",
      "text/plain": [
       "<Figure size 640x480 with 2 Axes>"
      ]
     },
     "metadata": {},
     "output_type": "display_data"
    },
    {
     "data": {
      "image/png": "[encoded data removed]",
      "text/plain": [
       "<Figure size 640x480 with 1 Axes>"
      ]
     },
     "metadata": {},
     "output_type": "display_data"
    }
   ],
   "source": [
    "from sklearn.metrics import classification_report, roc_auc_score, confusion_matrix, roc_curve\n",
    "import matplotlib.pyplot as plt\n",
    "import seaborn as sns\n",
    "\n",
    "# Entrenar el mejor modelo\n",
    "best_model = grid_searches['Logistic Regression'].best_estimator_\n",
    "best_model.fit(X_train, y_train)\n",
    "\n",
    "# Predicciones\n",
    "y_pred = best_model.predict(X_test)\n",
    "y_pred_proba = best_model.predict_proba(X_test)[:, 1]\n",
    "\n",
    "# Métricas\n",
    "print(classification_report(y_test, y_pred))\n",
    "print(f\"ROC-AUC: {roc_auc_score(y_test, y_pred_proba):.4f}\")\n",
    "\n",
    "# Matriz de confusión\n",
    "cm = confusion_matrix(y_test, y_pred)\n",
    "sns.heatmap(cm, annot=True, fmt='d', cmap='Blues')\n",
    "plt.title('Confusion Matrix')\n",
    "plt.xlabel('Predicted')\n",
    "plt.ylabel('Actual')\n",
    "plt.show()\n",
    "\n",
    "# Curva ROC\n",
    "fpr, tpr, thresholds = roc_curve(y_test, y_pred_proba)\n",
    "plt.plot(fpr, tpr, label=f'ROC Curve (AUC = {roc_auc_score(y_test, y_pred_proba):.4f})')\n",
    "plt.plot([0, 1], [0, 1], linestyle='--', color='grey')\n",
    "plt.xlabel('False Positive Rate')\n",
    "plt.ylabel('True Positive Rate')\n",
    "plt.title('ROC Curve')\n",
    "plt.legend()\n",
    "plt.show()\n"
   ]
  }
 ],
 "metadata": {
  "kernelspec": {
   "display_name": "machine_learning_ds02",
   "language": "python",
   "name": "python3"
  },
  "language_info": {
   "codemirror_mode": {
    "name": "ipython",
    "version": 3
   },
   "file_extension": ".py",
   "mimetype": "text/x-python",
   "name": "python",
   "nbconvert_exporter": "python",
   "pygments_lexer": "ipython3",
   "version": "3.13.0"
  }
 },
 "nbformat": 4,
 "nbformat_minor": 2
}
